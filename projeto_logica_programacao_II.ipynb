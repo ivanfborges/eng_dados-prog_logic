{
  "cells": [
    {
      "cell_type": "markdown",
      "metadata": {
        "id": "D0Yd4FfCmjuw"
      },
      "source": [
        "# TRABALHO DE LÓGICA DE PROGRAMAÇÃO II (PY)\n",
        "\n",
        "Equipe:\n",
        "\n",
        "Celice Fernandes Lopes - celice.lopes@gmail.com\n",
        "\n",
        "Reginaldo Origuella Filho - r.origuella@gmail.com\n",
        "\n",
        "Jhonata Leôncio Pereira - jhonataleoncio@gmail.com\n",
        "\n",
        "Ivan Figueiredo Borges - ivanfborges@gmail.com\n"
      ]
    },
    {
      "cell_type": "markdown",
      "metadata": {
        "id": "DCtSXH1Sg_1i"
      },
      "source": [
        "# Sistema de Cadastro\n",
        "\n",
        "Tua missão é construir um sistema de cadastro de pessoas. Ele precisará atender aos seguintes requisitos:\n",
        "\n",
        "- Menu principal\n",
        "- Inicialização\n",
        "- Inserir usuário\n",
        "- Excluir usuário\n",
        "- Atualizar Usuário\n",
        "- Exibir informações de  usuário\n",
        "- Exibir informações de todos os usuários\n",
        "- Sair\n",
        "\n",
        "## Observações\n",
        "- A cada vez que você encerrar uma operação do programa imprima novamente o menu principal;\n",
        "- O sistema deverá iniciar com uma lista predefinida de CINCO (5) usuários que deverá ser lida do arquivo enviado juntamente com este trabalho. Ou seja, o programa não começará do zero, já deve iniciar com usuários no sistema;\n",
        "- Usem somente estruturas e técnicas que vimos nas aulas (em aula informou que podemos usar o Class se desejarmos)"
      ]
    },
    {
      "cell_type": "markdown",
      "metadata": {
        "id": "7kaStT-bg_1l"
      },
      "source": [
        "### Inicialização\n",
        "\n",
        "O programa deve iniciar lendo um arquivo com usuários já cadastrados - recomenda-se ter uma função dedicada apenas a ler e a salvar o arquivo."
      ]
    },
    {
      "cell_type": "code",
      "execution_count": 1,
      "metadata": {
        "id": "EbHFOIMCg_1p"
      },
      "outputs": [],
      "source": [
        "import json\n",
        "\n",
        "def lerSalvarArquivo(usuarios=None, ler=True):\n",
        "    nomeArquivo = 'projetoModuloII.json'\n",
        "\n",
        "    try:\n",
        "        if ler:\n",
        "            with open(nomeArquivo, 'r+', encoding='UTF-8') as arquivo:\n",
        "                return json.load(arquivo)\n",
        "        else:\n",
        "            with open(nomeArquivo, 'w', encoding='UTF-8') as arquivo:\n",
        "                json.dump(usuarios, arquivo, indent=4, ensure_ascii=False)\n",
        "    except FileNotFoundError:\n",
        "        return {} if ler else usuarios"
      ]
    },
    {
      "cell_type": "markdown",
      "metadata": {
        "id": "LOKcVLfWg_1r"
      },
      "source": [
        "### 1 - Inserir usuário\n",
        "Você deverá criar uma função que recebe as seguintes informações: _nome_, _telefone_ e _endereço_.\n",
        "\n",
        "Detalhes... Em sistemas de cadastro é convencionado adicionar automaticamente as seguintes informações:\n",
        "- _id_: um número inteiro aleatório ou incremental que identifica um usuário (o id não pode se repetir);\n",
        "- _status_: um valor booleano que indica se o usuário está ativo ao não. Por padrão esse valor é True\n",
        "\n",
        "Além disto, a sua função que adiciona usuários no sistema deve ser capaz de receber um número N de cadastros de uma só vez e, também, caso algum campo não seja enviado, um valor padrão (*default*) deve ser utilizado. O único campo que deve ser obrigatório é o nome, o telefone e o endereço, caso o usuário não coloque no cadastro, o valor *Nao Informado* deve ser colocado em seu lugar.\n",
        "\n",
        "Caso o usuário tente inserir um cadastro que já existe, mas está desativado (mesmo nome, telefone e endereço), o sistema deve apenas tornar o cadastro antigo *True*, e não criar um novo cadastro."
      ]
    },
    {
      "cell_type": "code",
      "execution_count": 2,
      "metadata": {
        "id": "odDtzwGRg_1r"
      },
      "outputs": [],
      "source": [
        "def addUsuario(usuarios, nome, telefone=\"Não Informado\", endereco=\"Não Informado\"):\n",
        "    if not isinstance(usuarios, dict):\n",
        "        usuarios = {}\n",
        "\n",
        "    # Procura por um usuário com o mesmo nome, telefone e endereço desativado\n",
        "    for user_id, usuario in usuarios.items():\n",
        "        if usuario['Nome'] == nome and usuario['Telefone'] == telefone and usuario['Endereço'] == endereco and not usuario['Status']:\n",
        "            usuarios[user_id]['Status'] = True\n",
        "            lerSalvarArquivo(usuarios, ler=False)  # Salva a atualização do arquivo JSON\n",
        "            return int(user_id)\n",
        "\n",
        "    novo_id = 1\n",
        "    while str(novo_id) in usuarios:\n",
        "        novo_id += 1\n",
        "\n",
        "    novo_usuario = {\n",
        "        'Status': True,\n",
        "        'Nome': nome,\n",
        "        'Telefone': telefone,\n",
        "        'Endereço': endereco\n",
        "    }\n",
        "    usuarios[str(novo_id)] = novo_usuario\n",
        "    lerSalvarArquivo(usuarios, ler=False)  # Salva o novo usuário no arquivo JSON\n",
        "\n",
        "    return novo_id"
      ]
    },
    {
      "cell_type": "markdown",
      "metadata": {
        "id": "MXmJlGoag_1s"
      },
      "source": [
        "### 2 - Excluir usuário\n",
        "Bem aqui vamos usar o _id_ e o _status_. Em sistemas em produção é evitado ao máximo a aplicação de *delete*, *remove* ou qualquer outra função que apague em definitivo um dado.\n",
        "\n",
        "Para isso usamos o que é chamado de _Exclusão Lógica_. Que em síntese muda o _status_ do usuário de *True* para *False*.\n",
        "\n",
        "Você receberá do usuário o _id_ de um outro usuário dentro da base, e por fim vai alterar o valor do _status_ de True para False.\n",
        "\n",
        "Caso o _id_ digitado não estiver dentro da base imprima uma mensagem de erro e peça novamente o _id_. Exemplo:\n",
        "```\n",
        "Usuário não encontrado!\n",
        "\n",
        "Insira o ID do usuário:\n",
        "```\n",
        "\n",
        "Aqui, igualmente à adição de usuário, deve ser criada uma função dedicada apenas à exclusão, e esta função deve ser capaz de receber um número qualquer de *IDs* para fazer a exclusão lógica dos mesmos."
      ]
    },
    {
      "cell_type": "code",
      "execution_count": 3,
      "metadata": {
        "id": "BPsO6_A9g_1s"
      },
      "outputs": [],
      "source": [
        "def excluirUsuario(usuarios, *ids):\n",
        "    excluidos = 0  # Contador de usuários excluídos\n",
        "\n",
        "    for id in ids:\n",
        "        if id in usuarios:\n",
        "            if usuarios[id]['Status']:\n",
        "                usuarios[id]['Status'] = False\n",
        "                excluidos += 1\n",
        "            else:\n",
        "                print(f\"O usuário com ID {id} excluído.\")\n",
        "        else:\n",
        "            print(f\"Usuário com ID {id} não encontrado!\")\n",
        "\n",
        "    if excluidos > 0:\n",
        "        lerSalvarArquivo(usuarios, ler=False)  # Salva a atualização do arquivo JSON\n",
        "\n",
        "    return excluidos"
      ]
    },
    {
      "cell_type": "markdown",
      "metadata": {
        "id": "mfdP2e_qg_1t"
      },
      "source": [
        "### 3 - Atualizar usuário\n",
        "Ao selecionar essa opção você deverá pedir o _id_ de um usuário:\n",
        "\n",
        "```\n",
        "Insira o ID do usuário:\n",
        "```\n",
        "\n",
        "Caso o _id_ digitado não estiver dentro da base imprima uma mensagem de erro e peça novamente o _id_. Exemplo:\n",
        "```\n",
        "Usuário não encontrado!\n",
        "\n",
        "Insira o ID do usuário:\n",
        "```\n",
        "*Celice: acredito que podemos dar a opção de novo ID ou \"S\" para voltar ao menu nesse ponto, senão o usuário pode ficar preso aqui se não acertar um número*\n",
        "\n",
        "\n",
        "Ao inseri um _id_ correto imprima o seguinte sub menu:\n",
        "```\n",
        "Qual informação deseja alterar?\n",
        "1 - Nome\n",
        "2 - Tefone\n",
        "3 - Endereço\n",
        "```\n",
        "E ao escolher a opção peça a nova informação da seguinte forma:\n",
        "\n",
        "```\n",
        "1\n",
        "Insira o nome:\n",
        "```\n",
        "\n",
        "Aqui, igualmente à adição de usuário, deve ser criada uma função dedicada apenas à atualização cadastral, e esta função deve ser capaz de receber um número qualquer de *IDs* para fazer a alteração de cada um em sequência."
      ]
    },
    {
      "cell_type": "code",
      "execution_count": 4,
      "metadata": {
        "id": "zA1UFXREg_1t"
      },
      "outputs": [],
      "source": [
        "def editarInformacao(usuario, campo, novo_valor):\n",
        "    if campo == 'Nome':\n",
        "        usuario['Nome'] = novo_valor\n",
        "    elif campo == 'Telefone':\n",
        "        usuario['Telefone'] = novo_valor\n",
        "    elif campo == 'Endereço':\n",
        "        usuario['Endereço'] = novo_valor\n",
        "\n",
        "def editUsuario(usuarios, *ids):\n",
        "    for id in ids:\n",
        "        if id in usuarios and usuarios[id]['Status']:\n",
        "            print(\"Usuário encontrado! O que você deseja fazer?\")\n",
        "            print(\"1 - Nome\")\n",
        "            print(\"2 - Telefone\")\n",
        "            print(\"3 - Endereço\")\n",
        "            print(\"S - Voltar ao menu\")\n",
        "\n",
        "            opcao = input(\"Escolha uma opção: \")\n",
        "\n",
        "            if opcao == '1':\n",
        "                novo_nome = input(\"Insira o novo nome: \")\n",
        "                editarInformacao(usuarios[id], 'Nome', novo_nome)\n",
        "            elif opcao == '2':\n",
        "                novo_telefone = input(\"Insira o novo telefone: \")\n",
        "                editarInformacao(usuarios[id], 'Telefone', novo_telefone)\n",
        "            elif opcao == '3':\n",
        "                novo_endereco = input(\"Insira o novo endereço: \")\n",
        "                editarInformacao(usuarios[id], 'Endereço', novo_endereco)\n",
        "            elif opcao.upper() == 'S':\n",
        "                return\n",
        "            else:\n",
        "                print(\"Opção inválida!\")\n",
        "\n",
        "            lerSalvarArquivo(usuarios, ler=False)  # Salva a atualização do arquivo JSON\n",
        "        else:\n",
        "            print(f\"Usuário com ID {id} não encontrado!\")"
      ]
    },
    {
      "cell_type": "markdown",
      "metadata": {
        "id": "p_CDMVaog_1u"
      },
      "source": [
        "4 - Exibir informações de um usuário\n",
        "Ao selecionar essa opção imprima o seguinte sub menu:\n",
        "```\n",
        "4\n",
        "Insira o ID do usuário:\n",
        "```\n",
        "\n",
        "E deverá ser inserido o _id_ do usuário que deseja imprimir.\n",
        "Se o _id_ inserido não for encontrado na base imprima uma mensagem de erro e peça o _id_ novamente. Exemplo:\n",
        "```\n",
        "Usuário não encontrado!\n",
        "\n",
        "Insira o ID do usuário:\n",
        "```\n",
        "novamente sugiro adicionar opção voltar ao menu\n",
        "\n",
        "\n",
        "No momento que inserir um ID válido imprimir:\n",
        "\n",
        "```\n",
        "Nome: João da Silva\n",
        "Tefone: 2345678\n",
        "Endereço: Rua sete\n",
        "```\n",
        "\n",
        "Aqui, igualmente à adição de usuário, deve ser criada uma função dedicada apenas à exibição das informações, e esta função deve ser capaz de receber um número qualquer de *IDs* para fazer a exibição dos dados."
      ]
    },
    {
      "cell_type": "code",
      "execution_count": 5,
      "metadata": {
        "id": "z4e9L4r3g_1u"
      },
      "outputs": [],
      "source": [
        "def exibirAlgunsUsuarios(usuarios, *ids):\n",
        "    # Obter a lista de usuários\n",
        "    usuarios = lerSalvarArquivo()\n",
        "\n",
        "    for id in ids:\n",
        "        if id in usuarios and usuarios[id]['Status']:  # Verifica se o usuário está ativo\n",
        "            usuario = usuarios[id]\n",
        "            print(f'ID: {id}')\n",
        "            print(f'Nome: {usuario[\"Nome\"]}')\n",
        "            print(f'Telefone: {usuario[\"Telefone\"]}')\n",
        "            print(f'Endereço: {usuario[\"Endereço\"]}')\n",
        "            print()  # Linha em branco para separar as informações\n",
        "        else:\n",
        "            print(f'Usuário com ID {id} não encontrado')"
      ]
    },
    {
      "cell_type": "markdown",
      "metadata": {
        "id": "5hbOvmXHg_1u"
      },
      "source": [
        "### 5 - Informações de todos os usuários\n",
        "Ao selecionar essa opção imprima as informações de todos os usuários\n",
        "\n",
        "```\n",
        "ID: 1\n",
        "Nome: João da Silva\n",
        "Tefone: 2345678\n",
        "Endereço: Rua sete\n",
        "\n",
        "ID: 2\n",
        "Nome: Maria Aparecida\n",
        "Tefone: 2345678\n",
        "Endereço: Rua cinco\n",
        "\n",
        "ID: 3\n",
        "Nome: Alceu Maroto\n",
        "Tefone: 2345678\n",
        "Endereço: Avenida trinta e um\n",
        "```\n",
        "\n",
        "Novamente uma função deve ser criada exclusivamente para isto. Esta função vai apenas verificar quais *IDs* estão com o *status* ativo e exibir na tela estes *IDs*. Isto pode ser feito aproveitando da função anterior também!"
      ]
    },
    {
      "cell_type": "code",
      "execution_count": 6,
      "metadata": {
        "id": "akD_czszg_1u"
      },
      "outputs": [],
      "source": [
        "def exibirTodosUsuarios(usuarios):\n",
        "    ids_ativos = [id for id, usuario in usuarios.items() if usuario['Status']]\n",
        "    exibirAlgunsUsuarios(usuarios, *ids_ativos)"
      ]
    },
    {
      "cell_type": "markdown",
      "metadata": {
        "id": "w0s8jPC1g_1v"
      },
      "source": [
        "### 6 - Sair\n",
        "\n",
        "Encerre o programa.\n",
        "\n",
        "Aqui, o arquivo que foi lido inicialmente para começarmos o projeto já com cadastros na abse deve ser sobrescrito com o novo arquivo com as novas modificações feitas pelo sistema!\n",
        "\n",
        "Recomenda-se que a função lá do início, criada para ler este arquivo, também seja capaz de salvá-lo ao final atualizado - por simplicidade.\n"
      ]
    },
    {
      "cell_type": "markdown",
      "metadata": {
        "id": "Fq7JMjiqg_1v"
      },
      "source": [
        "- funcionalidade foi incluída na função lerSalvarArquivo, não sendo necessária uma função só para isso"
      ]
    },
    {
      "cell_type": "code",
      "execution_count": 7,
      "metadata": {
        "colab": {
          "base_uri": "https://localhost:8080/"
        },
        "id": "LNyr9n52g_1v",
        "outputId": "9fa7bae9-b7d1-411f-f3ea-7e958401dc80"
      },
      "outputs": [
        {
          "name": "stdout",
          "output_type": "stream",
          "text": [
            "\n",
            "**SISTEMA DE CADASTROS**\n",
            "\n",
            "Menu de opções:\n",
            "1 - Incluir usuário\n",
            "2 - Excluir usuário\n",
            "3 - Atualizar usuário\n",
            "4 - Informações de um usuário\n",
            "5 - Informações de todos os usuários\n",
            "6 - Sair\n",
            "\n",
            "Programa encerrado.\n"
          ]
        }
      ],
      "source": [
        "def main():\n",
        "    usuarios = lerSalvarArquivo(ler=True)\n",
        "\n",
        "    while True:\n",
        "        print(\"\\n**SISTEMA DE CADASTROS**\")\n",
        "        print(\"\\nMenu de opções:\")\n",
        "        print(\"1 - Incluir usuário\")\n",
        "        print(\"2 - Excluir usuário\")\n",
        "        print(\"3 - Atualizar usuário\")\n",
        "        print(\"4 - Informações de um usuário\")\n",
        "        print(\"5 - Informações de todos os usuários\")\n",
        "        print(\"6 - Sair\\n\")\n",
        "\n",
        "        opcao = input(\"Digite a opção desejada: \")\n",
        "\n",
        "        if opcao == '1':\n",
        "            nome = input(\"Insira o nome: \")\n",
        "            telefone = input(\"Insira o telefone: \")\n",
        "            endereco = input(\"Insira o endereço: \")\n",
        "\n",
        "            novo_id = addUsuario(usuarios, nome, telefone, endereco)\n",
        "\n",
        "            print(f\"\\nNovo usuário adicionado:\")\n",
        "            exibirAlgunsUsuarios(usuarios, str(novo_id))\n",
        "\n",
        "            confirmar = input(\"Confirmar cadastro? (S/N): \")\n",
        "            if confirmar.upper() == 'S':\n",
        "                lerSalvarArquivo(usuarios, ler=False)\n",
        "                print(\"\\nCadastro feito.\")\n",
        "            else:\n",
        "                print(\"\\nCadastro não realizado.\")\n",
        "\n",
        "        elif opcao == '2':\n",
        "            ids = input(\"Insira os IDs dos usuários que deseja excluir (separados por espaço): \").split()\n",
        "            excluidos = excluirUsuario(usuarios, *ids)\n",
        "            if excluidos > 0:\n",
        "                lerSalvarArquivo(usuarios, ler=False)\n",
        "\n",
        "        elif opcao == '3':\n",
        "            id = input(\"Insira o ID do usuário que deseja atualizar: \")\n",
        "            editUsuario(usuarios, id)\n",
        "\n",
        "        elif opcao == '4':\n",
        "            id = input(\"Insira o ID do usuário que deseja exibir: \")\n",
        "            exibirAlgunsUsuarios(usuarios, id)\n",
        "\n",
        "        elif opcao == '5':\n",
        "            exibirTodosUsuarios(usuarios)\n",
        "\n",
        "        elif opcao == '6':\n",
        "            lerSalvarArquivo(usuarios, ler=False)\n",
        "            print(\"Programa encerrado.\")\n",
        "            break\n",
        "\n",
        "        else:\n",
        "            print(\"Opção inválida. Por favor, escolha uma opção válida.\")\n",
        "\n",
        "if __name__ == \"__main__\":\n",
        "    main()"
      ]
    }
  ],
  "metadata": {
    "colab": {
      "provenance": []
    },
    "kernelspec": {
      "display_name": "pmba",
      "language": "python",
      "name": "python3"
    },
    "language_info": {
      "codemirror_mode": {
        "name": "ipython",
        "version": 3
      },
      "file_extension": ".py",
      "mimetype": "text/x-python",
      "name": "python",
      "nbconvert_exporter": "python",
      "pygments_lexer": "ipython3",
      "version": "3.11.2"
    },
    "orig_nbformat": 4
  },
  "nbformat": 4,
  "nbformat_minor": 0
}
